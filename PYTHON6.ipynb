{
  "nbformat": 4,
  "nbformat_minor": 0,
  "metadata": {
    "colab": {
      "provenance": [],
      "authorship_tag": "ABX9TyOWX6ZwGHNsJj6+8gKisEcJ",
      "include_colab_link": true
    },
    "kernelspec": {
      "name": "python3",
      "display_name": "Python 3"
    },
    "language_info": {
      "name": "python"
    }
  },
  "cells": [
    {
      "cell_type": "markdown",
      "metadata": {
        "id": "view-in-github",
        "colab_type": "text"
      },
      "source": [
        "<a href=\"https://colab.research.google.com/github/MaureenZac/Revision/blob/main/PYTHON6.ipynb\" target=\"_parent\"><img src=\"https://colab.research.google.com/assets/colab-badge.svg\" alt=\"Open In Colab\"/></a>"
      ]
    },
    {
      "cell_type": "code",
      "execution_count": 1,
      "metadata": {
        "colab": {
          "base_uri": "https://localhost:8080/"
        },
        "id": "FMgVzcFxw150",
        "outputId": "dcffa144-4ba4-4505-e2b1-c2f789a7d9bf"
      },
      "outputs": [
        {
          "output_type": "stream",
          "name": "stdout",
          "text": [
            "This is\"Python\" programming\n"
          ]
        }
      ],
      "source": [
        "x=\"This is\\\"Python\\\" programming\"\n",
        "print(x)"
      ]
    },
    {
      "cell_type": "code",
      "source": [
        "x='He\\'s a doctor'\n",
        "print(x)"
      ],
      "metadata": {
        "colab": {
          "base_uri": "https://localhost:8080/"
        },
        "id": "Zmx5jQtwxDHA",
        "outputId": "8d0a0b81-0d1d-4473-865a-999d88e77f15"
      },
      "execution_count": 2,
      "outputs": [
        {
          "output_type": "stream",
          "name": "stdout",
          "text": [
            "He's a doctor\n"
          ]
        }
      ]
    },
    {
      "cell_type": "code",
      "source": [
        "x=\"Hello\\nWorld!\"\n",
        "print(x)"
      ],
      "metadata": {
        "colab": {
          "base_uri": "https://localhost:8080/"
        },
        "id": "7lGyWsKzxMuV",
        "outputId": "3f8b87ac-8b0d-4c82-8ec7-5dd74fa03412"
      },
      "execution_count": 3,
      "outputs": [
        {
          "output_type": "stream",
          "name": "stdout",
          "text": [
            "Hello\n",
            "World!\n"
          ]
        }
      ]
    },
    {
      "cell_type": "code",
      "source": [
        "x=\"Hello\\tWorld!\"\n",
        "print(x)"
      ],
      "metadata": {
        "colab": {
          "base_uri": "https://localhost:8080/"
        },
        "id": "RXbYGW-exUTk",
        "outputId": "6e658c24-45f5-4a5f-b48c-93a7051e813c"
      },
      "execution_count": 4,
      "outputs": [
        {
          "output_type": "stream",
          "name": "stdout",
          "text": [
            "Hello\tWorld!\n"
          ]
        }
      ]
    },
    {
      "cell_type": "code",
      "source": [
        "print(\"\\\"Maureen\\\" Ann Zachariah\")"
      ],
      "metadata": {
        "colab": {
          "base_uri": "https://localhost:8080/"
        },
        "id": "b61VEVoYxb9U",
        "outputId": "f88ee2bb-b829-4a8f-a6d5-4ca223356b55"
      },
      "execution_count": 5,
      "outputs": [
        {
          "output_type": "stream",
          "name": "stdout",
          "text": [
            "\"Maureen\" Ann Zachariah\n"
          ]
        }
      ]
    },
    {
      "cell_type": "code",
      "source": [
        "print('He\\'s an aerospace engineer')"
      ],
      "metadata": {
        "colab": {
          "base_uri": "https://localhost:8080/"
        },
        "id": "etOJq1tjzs8O",
        "outputId": "dcd321f6-e740-4b08-8d31-73c3d72e878d"
      },
      "execution_count": 6,
      "outputs": [
        {
          "output_type": "stream",
          "name": "stdout",
          "text": [
            "He's an aerospace engineer\n"
          ]
        }
      ]
    },
    {
      "cell_type": "code",
      "source": [
        "print(\"Maureen\\nAnn\\nZachariah\")"
      ],
      "metadata": {
        "colab": {
          "base_uri": "https://localhost:8080/"
        },
        "id": "6X9czpPn0bhD",
        "outputId": "1a7550c7-dc75-4218-e462-73a9271e9684"
      },
      "execution_count": 7,
      "outputs": [
        {
          "output_type": "stream",
          "name": "stdout",
          "text": [
            "Maureen\n",
            "Ann\n",
            "Zachariah\n"
          ]
        }
      ]
    },
    {
      "cell_type": "code",
      "source": [
        "x=[]\n",
        "for i in range(0,4,1):\n",
        "  a=input(\"Enter a name\")\n",
        "  b=int(input(\"Enter index\"))\n",
        "  x.insert(b,a)\n",
        "x"
      ],
      "metadata": {
        "colab": {
          "base_uri": "https://localhost:8080/"
        },
        "id": "FPtdcBCV1QB9",
        "outputId": "d99717f4-a191-4f93-f9e6-b87f9de52fcf"
      },
      "execution_count": 13,
      "outputs": [
        {
          "name": "stdout",
          "output_type": "stream",
          "text": [
            "Enter a nameJohn\n",
            "Enter index1\n",
            "Enter a nameArchana\n",
            "Enter index2\n",
            "Enter a nameMilton\n",
            "Enter index3\n",
            "Enter a nameDavid\n",
            "Enter index4\n"
          ]
        },
        {
          "output_type": "execute_result",
          "data": {
            "text/plain": [
              "['John', 'Archana', 'Milton', 'David']"
            ]
          },
          "metadata": {},
          "execution_count": 13
        }
      ]
    },
    {
      "cell_type": "code",
      "source": [
        "def archana():\n",
        "  y=int(input(\"Enter Index\"))\n",
        "  n=input(\"Enter a name\")\n",
        "  x.insert(y,n)\n",
        "x"
      ],
      "metadata": {
        "colab": {
          "base_uri": "https://localhost:8080/"
        },
        "id": "WGszlvBk12wu",
        "outputId": "8175974b-1ccc-4bc6-9fe9-b052177cd3ab"
      },
      "execution_count": 17,
      "outputs": [
        {
          "output_type": "execute_result",
          "data": {
            "text/plain": [
              "['John', 'Archana', 'maureen', 'Milton', 'David']"
            ]
          },
          "metadata": {},
          "execution_count": 17
        }
      ]
    },
    {
      "cell_type": "code",
      "source": [
        "def maureen():\n",
        "  x=int(input(\"Enter a number:\"))\n",
        "  y=int(input(\"Enter a number:\"))\n",
        "  print(x+y)\n",
        "  print(x-y)\n",
        "  print(x*y)\n",
        "  print(x/y)"
      ],
      "metadata": {
        "id": "peTpNgLb-fd-"
      },
      "execution_count": 20,
      "outputs": []
    },
    {
      "cell_type": "code",
      "source": [
        "maureen()"
      ],
      "metadata": {
        "colab": {
          "base_uri": "https://localhost:8080/"
        },
        "id": "HJkVCX3B_C3V",
        "outputId": "89056b02-8df1-4aad-909b-881159a88a47"
      },
      "execution_count": 21,
      "outputs": [
        {
          "output_type": "stream",
          "name": "stdout",
          "text": [
            "Enter a number:5\n",
            "Enter a number:10\n",
            "15\n",
            "-5\n",
            "50\n",
            "0.5\n"
          ]
        }
      ]
    },
    {
      "cell_type": "code",
      "source": [
        "def add(a,b):\n",
        "  print(a+b)"
      ],
      "metadata": {
        "id": "RD2gY5cM_Eae"
      },
      "execution_count": 35,
      "outputs": []
    },
    {
      "cell_type": "code",
      "source": [
        "x=int(input(\"Enter first value\"))\n",
        "y=int(input(\"Enter second value\"))\n",
        "add(x,y)"
      ],
      "metadata": {
        "colab": {
          "base_uri": "https://localhost:8080/"
        },
        "id": "8o8tO6ukEc1F",
        "outputId": "c1df6069-3034-44f3-dabe-a032394d7d77"
      },
      "execution_count": 36,
      "outputs": [
        {
          "output_type": "stream",
          "name": "stdout",
          "text": [
            "Enter first value25\n",
            "Enter second value55\n",
            "80\n"
          ]
        }
      ]
    },
    {
      "cell_type": "code",
      "source": [
        "def subtract(a,b):\n",
        "  print(a-b)\n",
        " \n"
      ],
      "metadata": {
        "id": "h94AZCJ-Esev"
      },
      "execution_count": 37,
      "outputs": []
    },
    {
      "cell_type": "code",
      "source": [
        "x=int(input(\"Enter first value\"))\n",
        "y=int(input(\"Enter second value\"))\n",
        "subtract(x,y)"
      ],
      "metadata": {
        "colab": {
          "base_uri": "https://localhost:8080/"
        },
        "id": "cbMpije_FlVJ",
        "outputId": "55845eb2-26d3-496c-cdbb-f234e09a8822"
      },
      "execution_count": 40,
      "outputs": [
        {
          "output_type": "stream",
          "name": "stdout",
          "text": [
            "Enter first value25\n",
            "Enter second value55\n",
            "-30\n"
          ]
        }
      ]
    },
    {
      "cell_type": "code",
      "source": [
        "def multiply(a,b):\n",
        "  print(a*b)"
      ],
      "metadata": {
        "id": "UiKBhhAxFwGN"
      },
      "execution_count": 41,
      "outputs": []
    },
    {
      "cell_type": "code",
      "source": [
        "x=int(input(\"Enter first value\"))\n",
        "y=int(input(\"Enter second value\"))\n",
        "multiply(x,y)\n"
      ],
      "metadata": {
        "colab": {
          "base_uri": "https://localhost:8080/"
        },
        "id": "cxMr6teIGm2E",
        "outputId": "1323709e-6e8b-4a16-e1d7-36147d571038"
      },
      "execution_count": 42,
      "outputs": [
        {
          "output_type": "stream",
          "name": "stdout",
          "text": [
            "Enter first value25\n",
            "Enter second value55\n",
            "1375\n"
          ]
        }
      ]
    },
    {
      "cell_type": "code",
      "source": [
        "def divide(a,b):\n",
        "  print(a/b)"
      ],
      "metadata": {
        "id": "NzbOWb1NGpRk"
      },
      "execution_count": 43,
      "outputs": []
    },
    {
      "cell_type": "code",
      "source": [
        "x=int(input(\"Enter first value\"))\n",
        "y=int(input(\"Enter second value\"))\n",
        "divide(x,y)"
      ],
      "metadata": {
        "colab": {
          "base_uri": "https://localhost:8080/"
        },
        "id": "X2zXqUzSGtm8",
        "outputId": "a2b59850-daea-4e82-fab4-679b85ad12f8"
      },
      "execution_count": 45,
      "outputs": [
        {
          "output_type": "stream",
          "name": "stdout",
          "text": [
            "Enter first value25\n",
            "Enter second value55\n",
            "0.45454545454545453\n"
          ]
        }
      ]
    },
    {
      "cell_type": "code",
      "source": [],
      "metadata": {
        "id": "Op-BB0RkGvws"
      },
      "execution_count": null,
      "outputs": []
    }
  ]
}