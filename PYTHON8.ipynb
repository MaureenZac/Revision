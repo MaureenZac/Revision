{
  "nbformat": 4,
  "nbformat_minor": 0,
  "metadata": {
    "colab": {
      "provenance": [],
      "authorship_tag": "ABX9TyMPf6xJRU0Wz67Yu/2lgf5t",
      "include_colab_link": true
    },
    "kernelspec": {
      "name": "python3",
      "display_name": "Python 3"
    },
    "language_info": {
      "name": "python"
    }
  },
  "cells": [
    {
      "cell_type": "markdown",
      "metadata": {
        "id": "view-in-github",
        "colab_type": "text"
      },
      "source": [
        "<a href=\"https://colab.research.google.com/github/MaureenZac/Revision/blob/main/PYTHON8.ipynb\" target=\"_parent\"><img src=\"https://colab.research.google.com/assets/colab-badge.svg\" alt=\"Open In Colab\"/></a>"
      ]
    },
    {
      "cell_type": "code",
      "execution_count": 1,
      "metadata": {
        "id": "YvjtTK-iYGuB"
      },
      "outputs": [],
      "source": [
        "x=[10,20,30,40,50,60,70,80,90,100]"
      ]
    },
    {
      "cell_type": "code",
      "source": [
        "def function(x):\n",
        "  print(sum(x))\n"
      ],
      "metadata": {
        "id": "D-MsrzBsZXRv"
      },
      "execution_count": 2,
      "outputs": []
    },
    {
      "cell_type": "code",
      "source": [
        "function(x)"
      ],
      "metadata": {
        "colab": {
          "base_uri": "https://localhost:8080/"
        },
        "id": "gbEHjGkBZpD6",
        "outputId": "cd391e0b-fdb9-4a52-d2c3-8b8121bbc132"
      },
      "execution_count": 3,
      "outputs": [
        {
          "output_type": "stream",
          "name": "stdout",
          "text": [
            "550\n"
          ]
        }
      ]
    },
    {
      "cell_type": "code",
      "source": [
        "x=[2,3,4,5,6,7,8,9,10,11]"
      ],
      "metadata": {
        "id": "e0yxy4q9ZuMK"
      },
      "execution_count": 4,
      "outputs": []
    },
    {
      "cell_type": "code",
      "source": [
        "def even(x):\n",
        "  for i in x:\n",
        "    if i%2==0:\n",
        "      print(i,\"is an even number\")\n",
        "def odd(x):\n",
        "  for i in x:\n",
        "    if i%2!=0:\n",
        "      print(i,\"is an odd number\")\n",
        "even(x)\n",
        "odd(x) \n",
        "  "
      ],
      "metadata": {
        "colab": {
          "base_uri": "https://localhost:8080/"
        },
        "id": "FQqfuKzjadGY",
        "outputId": "fd48f42f-2af9-4529-ca4b-3bc09bb93432"
      },
      "execution_count": 8,
      "outputs": [
        {
          "output_type": "stream",
          "name": "stdout",
          "text": [
            "2 is an even number\n",
            "4 is an even number\n",
            "6 is an even number\n",
            "8 is an even number\n",
            "10 is an even number\n",
            "3 is an odd number\n",
            "5 is an odd number\n",
            "7 is an odd number\n",
            "9 is an odd number\n",
            "11 is an odd number\n"
          ]
        }
      ]
    },
    {
      "cell_type": "code",
      "source": [
        "x=[2,3,4,5,6,7,8,9,10,11]\n",
        "def remo(x):\n",
        "  for i in x:\n",
        "    if i%2!=0:\n",
        "      x.remove(i)\n",
        "  print(x)\n",
        "remo(x)\n"
      ],
      "metadata": {
        "colab": {
          "base_uri": "https://localhost:8080/"
        },
        "id": "NZIMTP-BdUS2",
        "outputId": "917b67fe-bb2a-4aa5-cf0a-f066ab092d8e"
      },
      "execution_count": 9,
      "outputs": [
        {
          "output_type": "stream",
          "name": "stdout",
          "text": [
            "[2, 4, 6, 8, 10]\n"
          ]
        }
      ]
    },
    {
      "cell_type": "code",
      "source": [
        "a=\"Python is a high-level, general-purpose programming language. Its design philosophy emphasizes code readability with the use of significant indentation. Python is dynamically typed and garbage-collected.\"\n",
        "vowels=[\"a\",\"e\",\"i\",\"o\",\"u\",\"A\",\"E\",\"I\",\"O\",\"U\"]\n",
        "c=a\n",
        "for i in a:\n",
        "  if i in vowels:\n",
        "    c=c.replace(i,\"\")\n",
        "print(\"After removing vowels:\",c)"
      ],
      "metadata": {
        "colab": {
          "base_uri": "https://localhost:8080/"
        },
        "id": "Pb29EV5kgeG1",
        "outputId": "d6be003a-e1d0-4e06-fdff-9c9b5fe14097"
      },
      "execution_count": 21,
      "outputs": [
        {
          "output_type": "stream",
          "name": "stdout",
          "text": [
            "After removing vowels: Pythn s  hgh-lvl, gnrl-prps prgrmmng lngg. ts dsgn phlsphy mphszs cd rdblty wth th s f sgnfcnt ndnttn. Pythn s dynmclly typd nd grbg-cllctd.\n"
          ]
        }
      ]
    },
    {
      "cell_type": "code",
      "source": [
        "a=\"Python is a high-level, general-purpose programming language. Its design philosophy emphasizes code readability with the use of significant indentation. Python is dynamically typed and garbage-collected.\"\n",
        "vowels=[\"a\",\"e\",\"i\",\"o\",\"u\",\"A\",\"E\",\"I\",\"O\",\"U\"]\n",
        "def maureen(c):\n",
        "  for i in c:\n",
        "    if i in vowels:\n",
        "      c=c.replace(i,\"\")\n",
        "  print(\"After removing vowels:\",c)\n",
        "\n"
      ],
      "metadata": {
        "id": "Ym88YCvAiNHR"
      },
      "execution_count": 31,
      "outputs": []
    },
    {
      "cell_type": "code",
      "source": [
        "maureen(c)"
      ],
      "metadata": {
        "colab": {
          "base_uri": "https://localhost:8080/"
        },
        "id": "I0YTt3JhoE2a",
        "outputId": "d4240df8-1055-41d6-bf4d-690d44797cf2"
      },
      "execution_count": 32,
      "outputs": [
        {
          "output_type": "stream",
          "name": "stdout",
          "text": [
            "After removing vowels: Pythn s  hgh-lvl, gnrl-prps prgrmmng lngg. ts dsgn phlsphy mphszs cd rdblty wth th s f sgnfcnt ndnttn. Pythn s dynmclly typd nd grbg-cllctd.\n"
          ]
        }
      ]
    },
    {
      "cell_type": "code",
      "source": [],
      "metadata": {
        "id": "kqNNtB1nodqe"
      },
      "execution_count": null,
      "outputs": []
    }
  ]
}