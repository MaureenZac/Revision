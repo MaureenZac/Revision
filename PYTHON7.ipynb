{
  "nbformat": 4,
  "nbformat_minor": 0,
  "metadata": {
    "colab": {
      "provenance": [],
      "authorship_tag": "ABX9TyMdKwAREbqezsvOeThXDKWX",
      "include_colab_link": true
    },
    "kernelspec": {
      "name": "python3",
      "display_name": "Python 3"
    },
    "language_info": {
      "name": "python"
    }
  },
  "cells": [
    {
      "cell_type": "markdown",
      "metadata": {
        "id": "view-in-github",
        "colab_type": "text"
      },
      "source": [
        "<a href=\"https://colab.research.google.com/github/MaureenZac/Revision/blob/main/PYTHON7.ipynb\" target=\"_parent\"><img src=\"https://colab.research.google.com/assets/colab-badge.svg\" alt=\"Open In Colab\"/></a>"
      ]
    },
    {
      "cell_type": "code",
      "source": [
        "def maureen():\n",
        "  print(\"I love U.A.E\")"
      ],
      "metadata": {
        "id": "ev6rQYr0PCpC"
      },
      "execution_count": 9,
      "outputs": []
    },
    {
      "cell_type": "code",
      "source": [
        "maureen()"
      ],
      "metadata": {
        "colab": {
          "base_uri": "https://localhost:8080/"
        },
        "id": "FnDiNwY5QZX7",
        "outputId": "a198f77f-afe7-4e6e-a3a1-d0d4b5d3c560"
      },
      "execution_count": 10,
      "outputs": [
        {
          "output_type": "stream",
          "name": "stdout",
          "text": [
            "I love U.A.E\n"
          ]
        }
      ]
    },
    {
      "cell_type": "code",
      "source": [
        "def maureen(x):\n",
        "  print(\"Your roll number is\",x)\n"
      ],
      "metadata": {
        "id": "R7NBd4BvQabz"
      },
      "execution_count": 11,
      "outputs": []
    },
    {
      "cell_type": "code",
      "source": [
        "x=int(input(\"Enter your roll number\"))\n",
        "maureen(x)"
      ],
      "metadata": {
        "colab": {
          "base_uri": "https://localhost:8080/"
        },
        "id": "3M6EXoeZQjVE",
        "outputId": "b147efcb-48c4-425b-e552-a4378c241a90"
      },
      "execution_count": 12,
      "outputs": [
        {
          "output_type": "stream",
          "name": "stdout",
          "text": [
            "Enter your roll number9089\n",
            "Your roll number is 9089\n"
          ]
        }
      ]
    },
    {
      "cell_type": "code",
      "source": [
        "def details(x,y,z,r):\n",
        "  print(\"Your name is:\",x)\n",
        "  print(\"Your roll no is:\",y)\n",
        "  print(\"Your mail id is:\",z)\n",
        "  print(\"Your place is:\",r)"
      ],
      "metadata": {
        "id": "ae2m6BFnQxrG"
      },
      "execution_count": 53,
      "outputs": []
    },
    {
      "cell_type": "code",
      "source": [
        "x=input(\"Enter your name:\")\n",
        "y=int(input(\"Enter your roll no:\"))\n",
        "z=input(\"Enter your mail id:\")\n",
        "r=input(\"Enter your place:\")\n",
        "details(x,y,z,r)\n",
        "\n",
        "\n"
      ],
      "metadata": {
        "colab": {
          "base_uri": "https://localhost:8080/"
        },
        "id": "qiE18rHwRuiM",
        "outputId": "98aa5bb9-6682-4b04-ff85-dcf9f86df04a"
      },
      "execution_count": 54,
      "outputs": [
        {
          "output_type": "stream",
          "name": "stdout",
          "text": [
            "Enter your name:Maureen\n",
            "Enter your roll no:9089\n",
            "Enter your mail id:xyz@gmail.com\n",
            "Enter your place:Ernakulam\n",
            "Your name is: Maureen\n",
            "Your roll no is: 9089\n",
            "Your mail id is: xyz@gmail.com\n",
            "Your place is: Ernakulam\n"
          ]
        }
      ]
    },
    {
      "cell_type": "code",
      "source": [
        "def first():\n",
        "  print(\"Your first name is:\",x[0:7])\n",
        "def middle():\n",
        "  print(\"Your middle name is: \",x[8:11])\n",
        "def last():\n",
        "  print(\"Your last name is: \",x[12:22])"
      ],
      "metadata": {
        "id": "dFDJDGSOTknp"
      },
      "execution_count": 34,
      "outputs": []
    },
    {
      "cell_type": "code",
      "source": [
        "x=input(\"Enter your full name:\")\n",
        "first()\n",
        "middle()\n",
        "last()"
      ],
      "metadata": {
        "id": "NMSb88Z6VPKk",
        "outputId": "233d3619-058a-411d-fb38-13b6925c23f3",
        "colab": {
          "base_uri": "https://localhost:8080/"
        }
      },
      "execution_count": 35,
      "outputs": [
        {
          "output_type": "stream",
          "name": "stdout",
          "text": [
            "Enter your full name:Maureen Ann Zachariah\n",
            "Your first name is: Maureen\n",
            "Your middle name is:  Ann\n",
            "Your last name is:  Zachariah\n"
          ]
        }
      ]
    },
    {
      "cell_type": "code",
      "source": [
        "def first():\n",
        "  name=x.split()\n",
        "  for i in name:\n",
        "    print(i)\n"
      ],
      "metadata": {
        "id": "OYpZC3qXYbIx"
      },
      "execution_count": 36,
      "outputs": []
    },
    {
      "cell_type": "code",
      "source": [
        "x=input(\"Enter your full name\")\n",
        "first()"
      ],
      "metadata": {
        "id": "N8hpbdrFcI7V",
        "outputId": "3f2a2574-9e2a-45a5-fd21-28643c6ab25d",
        "colab": {
          "base_uri": "https://localhost:8080/"
        }
      },
      "execution_count": 37,
      "outputs": [
        {
          "output_type": "stream",
          "name": "stdout",
          "text": [
            "Enter your full nameMaureen Ann Zachariah\n",
            "Maureen\n",
            "Ann\n",
            "Zachariah\n"
          ]
        }
      ]
    },
    {
      "cell_type": "code",
      "source": [
        "def num(x,y):\n",
        "  x,y=y,x\n",
        "  print(\"Swapped numbers are\",x,y)"
      ],
      "metadata": {
        "id": "dy5QNzHRdhGA"
      },
      "execution_count": 43,
      "outputs": []
    },
    {
      "cell_type": "code",
      "source": [
        "x=int(input(\"Enter the first number\"))\n",
        "y=int(input(\"Enter the second number\"))\n",
        "num(x,y)"
      ],
      "metadata": {
        "id": "LFJT0hl9fTNU",
        "outputId": "4c2f490d-a8e1-410b-e8f5-4e2601909455",
        "colab": {
          "base_uri": "https://localhost:8080/"
        }
      },
      "execution_count": 44,
      "outputs": [
        {
          "output_type": "stream",
          "name": "stdout",
          "text": [
            "Enter the first number25\n",
            "Enter the second number60\n",
            "Swapped numbers are 60 25\n"
          ]
        }
      ]
    },
    {
      "cell_type": "code",
      "source": [
        "def swap():\n",
        "  print(\"Numbers swapped is:\",x[1]+x[0])"
      ],
      "metadata": {
        "id": "SvZa01ppfpP6"
      },
      "execution_count": 50,
      "outputs": []
    },
    {
      "cell_type": "code",
      "source": [
        "x=input(\"Enter a two digit number\")\n",
        "swap()"
      ],
      "metadata": {
        "id": "ytWQf0OShMKz",
        "outputId": "7fc97c89-87bd-49f2-f502-66802e8d6d7c",
        "colab": {
          "base_uri": "https://localhost:8080/"
        }
      },
      "execution_count": 51,
      "outputs": [
        {
          "output_type": "stream",
          "name": "stdout",
          "text": [
            "Enter a two digit number65\n",
            "Numbers swapped is: 56\n"
          ]
        }
      ]
    },
    {
      "cell_type": "code",
      "source": [],
      "metadata": {
        "id": "6Eg9c4rqhb0d"
      },
      "execution_count": null,
      "outputs": []
    }
  ]
}