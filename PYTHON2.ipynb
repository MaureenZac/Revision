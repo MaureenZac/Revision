{
  "nbformat": 4,
  "nbformat_minor": 0,
  "metadata": {
    "colab": {
      "provenance": [],
      "authorship_tag": "ABX9TyPdMtTBpW4zfT7DEfiaZ+wJ",
      "include_colab_link": true
    },
    "kernelspec": {
      "name": "python3",
      "display_name": "Python 3"
    },
    "language_info": {
      "name": "python"
    }
  },
  "cells": [
    {
      "cell_type": "markdown",
      "metadata": {
        "id": "view-in-github",
        "colab_type": "text"
      },
      "source": [
        "<a href=\"https://colab.research.google.com/github/MaureenZac/Revision/blob/main/PYTHON2.ipynb\" target=\"_parent\"><img src=\"https://colab.research.google.com/assets/colab-badge.svg\" alt=\"Open In Colab\"/></a>"
      ]
    },
    {
      "cell_type": "code",
      "execution_count": 1,
      "metadata": {
        "colab": {
          "base_uri": "https://localhost:8080/"
        },
        "id": "WDALh1hVCAgR",
        "outputId": "f2dd42b1-78a4-4996-dcbb-3c39bf2a7160"
      },
      "outputs": [
        {
          "name": "stdout",
          "output_type": "stream",
          "text": [
            "Enter your marks50\n"
          ]
        }
      ],
      "source": [
        "x=int(input(\"Enter your marks\"))"
      ]
    },
    {
      "cell_type": "code",
      "source": [
        "if x>50:\n",
        "  print(\"You have passed\")\n",
        "if x==50:\n",
        "  print(\"You are just pass\")\n",
        "if x<50:\n",
        "  print(\"You have failed\")  "
      ],
      "metadata": {
        "colab": {
          "base_uri": "https://localhost:8080/"
        },
        "id": "27koHNHBDRO2",
        "outputId": "18f72ad3-6ae9-4244-a94b-0c804b03dc8c"
      },
      "execution_count": 4,
      "outputs": [
        {
          "output_type": "stream",
          "name": "stdout",
          "text": [
            "You are just pass\n"
          ]
        }
      ]
    },
    {
      "cell_type": "code",
      "source": [
        "x=int(input(\"Enter your salary\"))"
      ],
      "metadata": {
        "colab": {
          "base_uri": "https://localhost:8080/"
        },
        "id": "3NU5oFPDEHva",
        "outputId": "59338161-a3f6-4477-e319-948a27dcb7ae"
      },
      "execution_count": 6,
      "outputs": [
        {
          "name": "stdout",
          "output_type": "stream",
          "text": [
            "Enter your salary250000\n"
          ]
        }
      ]
    },
    {
      "cell_type": "code",
      "source": [
        "if x>250000:\n",
        "  print(\"You are taxable\")\n",
        "else:\n",
        "  print(\"You are not taxable\")"
      ],
      "metadata": {
        "colab": {
          "base_uri": "https://localhost:8080/"
        },
        "id": "qnl_cWh5F_fo",
        "outputId": "50620c1f-20c5-402d-efc5-560536524805"
      },
      "execution_count": 7,
      "outputs": [
        {
          "output_type": "stream",
          "name": "stdout",
          "text": [
            "You are not taxable\n"
          ]
        }
      ]
    },
    {
      "cell_type": "code",
      "source": [
        "x=int(input(\"Enter your salary\"))\n",
        "if x>250000 and x<500000:\n",
        "  sal=x-250000\n",
        "  tax=x*10/100\n",
        "  print(\"You are taxable\",tax)\n",
        "else:\n",
        "  print(\"You are not taxable\")"
      ],
      "metadata": {
        "colab": {
          "base_uri": "https://localhost:8080/"
        },
        "id": "g4ms0VPZGoIw",
        "outputId": "1a9a8845-435a-4b83-ec99-84921a71aeba"
      },
      "execution_count": 9,
      "outputs": [
        {
          "output_type": "stream",
          "name": "stdout",
          "text": [
            "Enter your salary300000\n",
            "You are taxable 30000.0\n"
          ]
        }
      ]
    },
    {
      "cell_type": "code",
      "source": [
        "x=int(input(\"Enter your salary\"))\n",
        "if x>250000 and x<500000:\n",
        "  sal=x-250000\n",
        "  tax=sal*10/100\n",
        "  print(\"You are taxable\",tax)\n",
        "elif x>=500000:\n",
        "  sal=x-250000\n",
        "  tax=sal*20/100\n",
        "  print(\"You are taxable\",tax)\n",
        "else:\n",
        "  print(\"You are not taxable\")"
      ],
      "metadata": {
        "colab": {
          "base_uri": "https://localhost:8080/"
        },
        "id": "qrZQtA3oH5zO",
        "outputId": "4dda6d9b-1852-4efc-bd82-db22b6141dba"
      },
      "execution_count": 19,
      "outputs": [
        {
          "output_type": "stream",
          "name": "stdout",
          "text": [
            "Enter your salary600000\n",
            "You are taxable 70000.0\n"
          ]
        }
      ]
    },
    {
      "cell_type": "code",
      "source": [
        "x=int(input(\"Enter your salary\"))\n",
        "if x>250000 and x<500000:\n",
        "  sal=x-250000\n",
        "  tax=sal*5/100\n",
        "  print(\"You are taxable\",tax)\n",
        "elif x>500000 and x<750000:\n",
        "  sal=x-500000\n",
        "  tax=(sal*10/100)+(250000*5/100) \n",
        "  print(\"You are taxable\",tax)\n",
        "elif x>750000 and x<1000000:\n",
        "  sal=x-750000\n",
        "  tax=(sal*15/100)+(250000*5/100)+(250000*10/100)\n",
        "  print(\"You are taxable\",tax)\n",
        "elif x>1000000 and x<1250000:\n",
        "  sal=x-1000000\n",
        "  tax=(sal*20/100)+(250000*5/100)+(250000*10/100)+(250000*15/100)\n",
        "  print(\"You are taxable\",tax)\n",
        "elif x>1250000 and x<1500000:\n",
        "  sal=x-1250000\n",
        "  tax=(sal*25/100)+(250000*5/100)+(250000*10/100)+(250000*15/100)+(250000*20/100)\n",
        "  print(\"You are taxable\",tax)  \n",
        "elif x>1500000:\n",
        "  sal=x-1500000\n",
        "  tax=(sal*30/100)+(250000*5/100)+(250000*10/100)+(250000*15/100)+(250000*20/100)+(250000*25/100)\n",
        "  print(\"You are taxable\",tax) \n",
        "else:\n",
        "  print(\"You are not taxable\")\n",
        "  "
      ],
      "metadata": {
        "colab": {
          "base_uri": "https://localhost:8080/"
        },
        "id": "aNsk8o7dJ1gO",
        "outputId": "b8884148-df28-4cce-ade9-9b6b8f2dd7b9"
      },
      "execution_count": 20,
      "outputs": [
        {
          "output_type": "stream",
          "name": "stdout",
          "text": [
            "Enter your salary1400000\n",
            "You are taxable 162500.0\n"
          ]
        }
      ]
    },
    {
      "cell_type": "code",
      "source": [],
      "metadata": {
        "id": "ufcaA2p2UOGj"
      },
      "execution_count": 17,
      "outputs": []
    }
  ]
}