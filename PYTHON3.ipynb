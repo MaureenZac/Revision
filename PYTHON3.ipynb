{
  "nbformat": 4,
  "nbformat_minor": 0,
  "metadata": {
    "colab": {
      "provenance": [],
      "authorship_tag": "ABX9TyOQYH4yqV6kM/0aDM/qTKt9",
      "include_colab_link": true
    },
    "kernelspec": {
      "name": "python3",
      "display_name": "Python 3"
    },
    "language_info": {
      "name": "python"
    }
  },
  "cells": [
    {
      "cell_type": "markdown",
      "metadata": {
        "id": "view-in-github",
        "colab_type": "text"
      },
      "source": [
        "<a href=\"https://colab.research.google.com/github/MaureenZac/Revision/blob/main/PYTHON3.ipynb\" target=\"_parent\"><img src=\"https://colab.research.google.com/assets/colab-badge.svg\" alt=\"Open In Colab\"/></a>"
      ]
    },
    {
      "cell_type": "code",
      "source": [
        "HRA=int(input(\"Enter HRA\"))\n",
        "Sal=int(input(\"Enter basic salary\"))\n",
        "ar=int(input(\"Enter monthly rent\"))\n",
        "x=HRA\n",
        "y=ar*12-(Sal*12*(10/100))\n",
        "z=Sal*12*(50/100)\n",
        "a=[x,y,z]\n",
        "b=min(a)\n",
        "print(\"It should be eligible for HRA exemption of Rs.\",b) "
      ],
      "metadata": {
        "colab": {
          "base_uri": "https://localhost:8080/"
        },
        "id": "EK1lqm4oSuBb",
        "outputId": "57c3e16c-0315-4356-b3a0-47e7685d8b4c"
      },
      "execution_count": 5,
      "outputs": [
        {
          "output_type": "stream",
          "name": "stdout",
          "text": [
            "Enter HRA100000\n",
            "Enter basic salary50000\n",
            "Enter monthly rent15000\n",
            "It should be eligible for HRA exemption of Rs. 100000\n"
          ]
        }
      ]
    },
    {
      "cell_type": "code",
      "source": [
        "HRA=int(input(\"Enter HRA\"))\n",
        "Sal=int(input(\"Enter basic salary\"))\n",
        "ar=int(input(\"Enter monthly rent\"))\n",
        "x=HRA\n",
        "y=ar*12-(Sal*12*(10/100))\n",
        "z=Sal*12*(50/100)\n",
        "a=[x,y,z]\n",
        "b=min(a)\n",
        "print(\"It should be eligible for HRA exemption of Rs.\",b)\n",
        "if b>150000 or b==150000:\n",
        "  m=(Sal*12)+HRA-150000\n",
        "else:\n",
        "  m=(Sal*12)+HRA-b\n",
        "if m>250000 and m<500000:\n",
        "  sal=m-250000\n",
        "  tax=sal*5/100\n",
        "  print(\"You are taxable\",tax)\n",
        "elif m>500000 and m<750000:\n",
        "  sal=m-500000\n",
        "  tax=(sal*10/100)+(250000*5/100) \n",
        "  print(\"You are taxable\",tax)\n",
        "elif m>750000 and x<1000000:\n",
        "  sal=m-750000\n",
        "  tax=(sal*15/100)+(250000*5/100)+(250000*10/100)\n",
        "  print(\"You are taxable\",tax)\n",
        "elif m>1000000 and m<1250000:\n",
        "  sal=m-1000000\n",
        "  tax=(sal*20/100)+(250000*5/100)+(250000*10/100)+(250000*15/100)\n",
        "  print(\"You are taxable\",tax)\n",
        "elif m>1250000 and m<1500000:\n",
        "  sal=m-1250000\n",
        "  tax=(sal*25/100)+(250000*5/100)+(250000*10/100)+(250000*15/100)+(250000*20/100)\n",
        "  print(\"You are taxable\",tax)  \n",
        "elif m>1500000:\n",
        "  sal=m-1500000\n",
        "  tax=(sal*30/100)+(250000*5/100)+(250000*10/100)+(250000*15/100)+(250000*20/100)+(250000*25/100)\n",
        "  print(\"You are taxable\",tax) \n",
        "else:\n",
        "  print(\"You are not taxable\")"
      ],
      "metadata": {
        "colab": {
          "base_uri": "https://localhost:8080/"
        },
        "id": "5_OTWeh4YP_7",
        "outputId": "e65c455c-c7c5-4d7e-b29f-7f2330314d1e"
      },
      "execution_count": 9,
      "outputs": [
        {
          "output_type": "stream",
          "name": "stdout",
          "text": [
            "Enter HRA100000\n",
            "Enter basic salary50000\n",
            "Enter monthly rent15000\n",
            "It should be eligible for HRA exemption of Rs. 100000\n",
            "You are taxable 22500.0\n"
          ]
        }
      ]
    },
    {
      "cell_type": "code",
      "source": [],
      "metadata": {
        "id": "ky2CQfhLeZap"
      },
      "execution_count": null,
      "outputs": []
    }
  ]
}