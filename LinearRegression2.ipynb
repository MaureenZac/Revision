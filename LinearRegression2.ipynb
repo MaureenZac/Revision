{
  "nbformat": 4,
  "nbformat_minor": 0,
  "metadata": {
    "colab": {
      "provenance": [],
      "authorship_tag": "ABX9TyNfh7W/2Vq9b+I6bwVwSZI/",
      "include_colab_link": true
    },
    "kernelspec": {
      "name": "python3",
      "display_name": "Python 3"
    },
    "language_info": {
      "name": "python"
    }
  },
  "cells": [
    {
      "cell_type": "markdown",
      "metadata": {
        "id": "view-in-github",
        "colab_type": "text"
      },
      "source": [
        "<a href=\"https://colab.research.google.com/github/MaureenZac/Revision/blob/main/LinearRegression2.ipynb\" target=\"_parent\"><img src=\"https://colab.research.google.com/assets/colab-badge.svg\" alt=\"Open In Colab\"/></a>"
      ]
    },
    {
      "cell_type": "code",
      "execution_count": 1,
      "metadata": {
        "id": "0-RpiCAHPBn8"
      },
      "outputs": [],
      "source": [
        "import numpy as np\n",
        "import matplotlib.pyplot as plt\n",
        "import pandas as pd"
      ]
    },
    {
      "cell_type": "code",
      "source": [
        "dataset=pd.read_csv(\"ABC.csv\")"
      ],
      "metadata": {
        "id": "yBQJYNW3PCzB"
      },
      "execution_count": 16,
      "outputs": []
    },
    {
      "cell_type": "code",
      "source": [
        "x=dataset.iloc[:,:-1].values\n",
        "print(x)"
      ],
      "metadata": {
        "colab": {
          "base_uri": "https://localhost:8080/"
        },
        "id": "Ps3IOG4cPHfw",
        "outputId": "bef6796c-b532-4cf0-8f0b-7c72e2f80c25"
      },
      "execution_count": 17,
      "outputs": [
        {
          "output_type": "stream",
          "name": "stdout",
          "text": [
            "[[  1.]\n",
            " [  2.]\n",
            " [  3.]\n",
            " [  4.]\n",
            " [  5.]\n",
            " [  6.]\n",
            " [  7.]\n",
            " [  8.]\n",
            " [  9.]\n",
            " [ 10.]\n",
            " [ 11.]\n",
            " [ 12.]\n",
            " [ 13.]\n",
            " [ 14.]\n",
            " [ 15.]\n",
            " [ 16.]\n",
            " [ 17.]\n",
            " [ 18.]\n",
            " [ 19.]\n",
            " [ 20.]\n",
            " [ 21.]\n",
            " [ 22.]\n",
            " [ 23.]\n",
            " [ 24.]\n",
            " [ 25.]\n",
            " [ 26.]\n",
            " [ 27.]\n",
            " [ 28.]\n",
            " [ 29.]\n",
            " [ 30.]\n",
            " [ 31.]\n",
            " [ 32.]\n",
            " [ 33.]\n",
            " [ 34.]\n",
            " [ 35.]\n",
            " [ 36.]\n",
            " [ 37.]\n",
            " [ 38.]\n",
            " [ 39.]\n",
            " [ 40.]\n",
            " [ 41.]\n",
            " [ 42.]\n",
            " [ 43.]\n",
            " [ 44.]\n",
            " [ 45.]\n",
            " [ 46.]\n",
            " [ 47.]\n",
            " [ 48.]\n",
            " [ 49.]\n",
            " [ 50.]\n",
            " [ 51.]\n",
            " [ 52.]\n",
            " [ 53.]\n",
            " [ 54.]\n",
            " [ 55.]\n",
            " [ 56.]\n",
            " [ 57.]\n",
            " [ 58.]\n",
            " [ 59.]\n",
            " [ 60.]\n",
            " [ 61.]\n",
            " [ 62.]\n",
            " [ 63.]\n",
            " [ 64.]\n",
            " [ 65.]\n",
            " [ 66.]\n",
            " [ 67.]\n",
            " [ 68.]\n",
            " [ 69.]\n",
            " [ 70.]\n",
            " [ 71.]\n",
            " [ 72.]\n",
            " [ 73.]\n",
            " [ 74.]\n",
            " [ 75.]\n",
            " [ 76.]\n",
            " [ 77.]\n",
            " [ 78.]\n",
            " [ 79.]\n",
            " [ 80.]\n",
            " [ 81.]\n",
            " [ 82.]\n",
            " [ 83.]\n",
            " [ 84.]\n",
            " [ 85.]\n",
            " [ 86.]\n",
            " [ 87.]\n",
            " [ 88.]\n",
            " [ 89.]\n",
            " [ 90.]\n",
            " [ 91.]\n",
            " [ 92.]\n",
            " [ 93.]\n",
            " [ 94.]\n",
            " [ 95.]\n",
            " [ 96.]\n",
            " [ 97.]\n",
            " [ 98.]\n",
            " [ 99.]\n",
            " [100.]\n",
            " [101.]\n",
            " [102.]\n",
            " [103.]\n",
            " [104.]\n",
            " [105.]\n",
            " [106.]\n",
            " [107.]\n",
            " [108.]\n",
            " [109.]\n",
            " [110.]\n",
            " [111.]\n",
            " [112.]\n",
            " [113.]\n",
            " [114.]\n",
            " [115.]\n",
            " [116.]\n",
            " [117.]\n",
            " [118.]\n",
            " [119.]\n",
            " [120.]\n",
            " [121.]\n",
            " [122.]\n",
            " [123.]\n",
            " [124.]\n",
            " [125.]\n",
            " [126.]\n",
            " [127.]\n",
            " [128.]\n",
            " [129.]\n",
            " [130.]\n",
            " [131.]\n",
            " [132.]\n",
            " [133.]\n",
            " [134.]\n",
            " [135.]\n",
            " [136.]\n",
            " [137.]\n",
            " [138.]\n",
            " [139.]\n",
            " [140.]\n",
            " [141.]\n",
            " [142.]\n",
            " [143.]\n",
            " [144.]\n",
            " [145.]\n",
            " [146.]\n",
            " [147.]\n",
            " [148.]\n",
            " [149.]\n",
            " [150.]\n",
            " [151.]\n",
            " [152.]\n",
            " [153.]\n",
            " [154.]\n",
            " [155.]\n",
            " [156.]\n",
            " [157.]\n",
            " [158.]\n",
            " [159.]\n",
            " [160.]\n",
            " [161.]\n",
            " [162.]\n",
            " [163.]\n",
            " [164.]\n",
            " [165.]\n",
            " [166.]\n",
            " [167.]\n",
            " [168.]\n",
            " [169.]\n",
            " [170.]\n",
            " [171.]\n",
            " [172.]\n",
            " [173.]\n",
            " [174.]\n",
            " [175.]\n",
            " [176.]\n",
            " [177.]\n",
            " [178.]\n",
            " [179.]\n",
            " [180.]\n",
            " [181.]\n",
            " [182.]\n",
            " [183.]\n",
            " [184.]\n",
            " [185.]\n",
            " [186.]\n",
            " [187.]\n",
            " [188.]\n",
            " [189.]\n",
            " [190.]\n",
            " [191.]\n",
            " [192.]\n",
            " [193.]\n",
            " [194.]\n",
            " [195.]\n",
            " [196.]\n",
            " [197.]\n",
            " [198.]\n",
            " [199.]\n",
            " [200.]\n",
            " [201.]\n",
            " [202.]\n",
            " [203.]\n",
            " [204.]\n",
            " [205.]\n",
            " [206.]\n",
            " [207.]\n",
            " [208.]\n",
            " [209.]\n",
            " [210.]\n",
            " [211.]\n",
            " [212.]\n",
            " [213.]\n",
            " [214.]\n",
            " [215.]\n",
            " [216.]\n",
            " [217.]\n",
            " [218.]\n",
            " [219.]\n",
            " [220.]\n",
            " [221.]\n",
            " [222.]\n",
            " [223.]\n",
            " [224.]\n",
            " [225.]\n",
            " [226.]\n",
            " [227.]\n",
            " [228.]\n",
            " [229.]\n",
            " [230.]\n",
            " [231.]\n",
            " [232.]\n",
            " [233.]\n",
            " [234.]\n",
            " [235.]\n",
            " [236.]\n",
            " [237.]\n",
            " [238.]\n",
            " [239.]\n",
            " [240.]\n",
            " [241.]\n",
            " [242.]\n",
            " [243.]\n",
            " [244.]\n",
            " [245.]\n",
            " [246.]\n",
            " [247.]\n",
            " [248.]\n",
            " [249.]]\n"
          ]
        }
      ]
    },
    {
      "cell_type": "code",
      "source": [
        "y=dataset.iloc[:,-1].values\n",
        "print(y)"
      ],
      "metadata": {
        "colab": {
          "base_uri": "https://localhost:8080/"
        },
        "id": "NESa-p6NPK2Y",
        "outputId": "6e4e5fbb-171a-4d62-e742-227461075bbd"
      },
      "execution_count": 18,
      "outputs": [
        {
          "output_type": "stream",
          "name": "stdout",
          "text": [
            "[217.5      220.       229.       225.       217.       215.\n",
            " 229.100006 235.       231.899994 233.100006 231.949997 230.\n",
            " 233.600006 232.949997 229.100006 232.350006 234.       240.\n",
            " 242.550003 243.600006 240.949997 242.899994 237.649994 247.149994\n",
            " 253.850006 275.950012 292.350006 280.899994 281.       283.350006\n",
            " 278.600006 267.899994 260.5      250.       253.       258.\n",
            " 248.       251.149994 247.800003 250.899994 250.899994 240.\n",
            " 249.850006 248.949997 243.       235.       229.949997 222.800003\n",
            " 225.800003 225.       224.899994 228.949997 243.350006 229.5\n",
            " 232.5      234.949997 230.199997 229.       222.949997 225.699997\n",
            " 227.899994 232.899994 233.600006 232.       236.300003 231.\n",
            " 230.899994 235.949997 232.       231.399994 223.449997 214.699997\n",
            " 221.       222.399994 209.800003 211.800003 197.800003 203.699997\n",
            " 201.300003 204.899994 209.899994 206.100006 206.100006 207.300003\n",
            " 202.699997 207.699997 214.5      212.5      215.949997 217.699997\n",
            " 219.       219.850006 222.       222.899994 221.899994 226.949997\n",
            " 226.649994 230.       226.699997 230.199997 231.399994 233.\n",
            " 220.899994 220.399994 220.199997 222.300003 230.       232.\n",
            " 233.800003 228.649994 232.050003 229.5      229.899994 230.\n",
            " 233.649994 238.449997 236.949997 238.850006 232.649994 222.75\n",
            " 230.949997 230.600006 231.       227.149994 234.       235.050003\n",
            " 238.449997 235.449997 237.649994 246.949997 249.550003 246.5\n",
            " 243.699997 243.899994 237.449997 242.350006 246.899994 237.5\n",
            " 235.       235.5      229.100006 231.25     222.800003 217.300003\n",
            " 215.       216.149994 212.199997 216.5      216.800003 221.\n",
            " 221.649994 220.       220.399994 218.       217.949997 220.\n",
            " 215.       219.050003 221.399994 217.850006 221.25     221.\n",
            " 219.100006 221.800003 227.       228.100006 226.5      230.\n",
            " 228.199997 227.699997 228.350006 230.100006 231.199997 232.\n",
            " 230.050003 228.449997 229.5      224.699997 222.350006 220.449997\n",
            " 221.050003 221.5      221.       221.199997 224.100006 225.\n",
            " 223.550003 225.25     225.449997 225.25     224.199997 228.800003\n",
            " 226.       225.899994 219.75     218.800003 219.800003 222.649994\n",
            " 221.       218.       216.800003 218.399994 214.899994 206.199997\n",
            " 197.300003 206.800003 207.350006 208.800003 207.399994 208.75\n",
            " 212.       211.       209.600006 207.600006 206.449997 206.649994\n",
            " 206.850006 206.399994 205.699997 207.300003 206.899994 207.649994\n",
            " 206.949997 205.350006 207.75     207.050003 205.850006 202.5\n",
            " 203.449997 205.5      214.899994 204.949997 207.5      209.\n",
            " 209.5      206.300003 207.199997 205.5      205.300003 203.699997\n",
            " 202.649994 205.600006 204.5      204.800003 204.850006 207.550003\n",
            " 202.800003 201.899994 201.949997]\n"
          ]
        }
      ]
    },
    {
      "cell_type": "code",
      "source": [
        "from sklearn.model_selection import train_test_split\n",
        "x_train,x_test,y_train,y_test=train_test_split(x,y,test_size=0.4,random_state=0)"
      ],
      "metadata": {
        "id": "W2VTgOJhPOOQ"
      },
      "execution_count": 21,
      "outputs": []
    },
    {
      "cell_type": "code",
      "source": [
        "from sklearn.linear_model import LinearRegression\n",
        "regressor=LinearRegression()\n",
        "regressor.fit(x_train, y_train)\n"
      ],
      "metadata": {
        "colab": {
          "base_uri": "https://localhost:8080/"
        },
        "id": "IUszuyliPRw4",
        "outputId": "7811fe8b-cf6e-4848-cb57-b49ebd404f9f"
      },
      "execution_count": 22,
      "outputs": [
        {
          "output_type": "execute_result",
          "data": {
            "text/plain": [
              "LinearRegression()"
            ]
          },
          "metadata": {},
          "execution_count": 22
        }
      ]
    },
    {
      "cell_type": "code",
      "source": [
        "y_pred = regressor.predict(x_test)"
      ],
      "metadata": {
        "id": "WLI5qfuZPTfo"
      },
      "execution_count": 24,
      "outputs": []
    },
    {
      "cell_type": "code",
      "source": [
        "plt.scatter(x_test, y_test, color = 'red')\n",
        "plt.scatter(x_train, y_train, color = 'green')\n",
        "plt.plot(x_test, y_pred, color = 'blue')\n",
        "plt.xlabel('Volume')\n",
        "plt.ylabel('Profit')\n",
        "plt.show()"
      ],
      "metadata": {
        "colab": {
          "base_uri": "https://localhost:8080/",
          "height": 279
        },
        "id": "LxLNgQDBQk00",
        "outputId": "e042dc7d-53d7-4ad3-f67b-64dbeb8d853b"
      },
      "execution_count": 25,
      "outputs": [
        {
          "output_type": "display_data",
          "data": {
            "text/plain": [
              "<Figure size 432x288 with 1 Axes>"
            ],
            "image/png": "[encoded data removed]"
          },
          "metadata": {
            "needs_background": "light"
          }
        }
      ]
    },
    {
      "cell_type": "code",
      "source": [
        "import numpy as np\n",
        "import matplotlib.pyplot as plt\n",
        "import pandas as pd"
      ],
      "metadata": {
        "id": "1ZtVSYE0QskY"
      },
      "execution_count": 27,
      "outputs": []
    },
    {
      "cell_type": "code",
      "source": [
        "data=pd.read_csv(\"ABC.csv\")"
      ],
      "metadata": {
        "id": "fYTKyfvlRB5P"
      },
      "execution_count": 28,
      "outputs": []
    },
    {
      "cell_type": "code",
      "source": [
        "x_questionbank=data.iloc[0:200,0:1].values\n",
        "print(x_questionbank)"
      ],
      "metadata": {
        "colab": {
          "base_uri": "https://localhost:8080/"
        },
        "id": "wWnpRS8lRVUt",
        "outputId": "184bf0c1-7acc-47fa-eaeb-e6efaa46b75a"
      },
      "execution_count": 29,
      "outputs": [
        {
          "output_type": "stream",
          "name": "stdout",
          "text": [
            "[[  1.]\n",
            " [  2.]\n",
            " [  3.]\n",
            " [  4.]\n",
            " [  5.]\n",
            " [  6.]\n",
            " [  7.]\n",
            " [  8.]\n",
            " [  9.]\n",
            " [ 10.]\n",
            " [ 11.]\n",
            " [ 12.]\n",
            " [ 13.]\n",
            " [ 14.]\n",
            " [ 15.]\n",
            " [ 16.]\n",
            " [ 17.]\n",
            " [ 18.]\n",
            " [ 19.]\n",
            " [ 20.]\n",
            " [ 21.]\n",
            " [ 22.]\n",
            " [ 23.]\n",
            " [ 24.]\n",
            " [ 25.]\n",
            " [ 26.]\n",
            " [ 27.]\n",
            " [ 28.]\n",
            " [ 29.]\n",
            " [ 30.]\n",
            " [ 31.]\n",
            " [ 32.]\n",
            " [ 33.]\n",
            " [ 34.]\n",
            " [ 35.]\n",
            " [ 36.]\n",
            " [ 37.]\n",
            " [ 38.]\n",
            " [ 39.]\n",
            " [ 40.]\n",
            " [ 41.]\n",
            " [ 42.]\n",
            " [ 43.]\n",
            " [ 44.]\n",
            " [ 45.]\n",
            " [ 46.]\n",
            " [ 47.]\n",
            " [ 48.]\n",
            " [ 49.]\n",
            " [ 50.]\n",
            " [ 51.]\n",
            " [ 52.]\n",
            " [ 53.]\n",
            " [ 54.]\n",
            " [ 55.]\n",
            " [ 56.]\n",
            " [ 57.]\n",
            " [ 58.]\n",
            " [ 59.]\n",
            " [ 60.]\n",
            " [ 61.]\n",
            " [ 62.]\n",
            " [ 63.]\n",
            " [ 64.]\n",
            " [ 65.]\n",
            " [ 66.]\n",
            " [ 67.]\n",
            " [ 68.]\n",
            " [ 69.]\n",
            " [ 70.]\n",
            " [ 71.]\n",
            " [ 72.]\n",
            " [ 73.]\n",
            " [ 74.]\n",
            " [ 75.]\n",
            " [ 76.]\n",
            " [ 77.]\n",
            " [ 78.]\n",
            " [ 79.]\n",
            " [ 80.]\n",
            " [ 81.]\n",
            " [ 82.]\n",
            " [ 83.]\n",
            " [ 84.]\n",
            " [ 85.]\n",
            " [ 86.]\n",
            " [ 87.]\n",
            " [ 88.]\n",
            " [ 89.]\n",
            " [ 90.]\n",
            " [ 91.]\n",
            " [ 92.]\n",
            " [ 93.]\n",
            " [ 94.]\n",
            " [ 95.]\n",
            " [ 96.]\n",
            " [ 97.]\n",
            " [ 98.]\n",
            " [ 99.]\n",
            " [100.]\n",
            " [101.]\n",
            " [102.]\n",
            " [103.]\n",
            " [104.]\n",
            " [105.]\n",
            " [106.]\n",
            " [107.]\n",
            " [108.]\n",
            " [109.]\n",
            " [110.]\n",
            " [111.]\n",
            " [112.]\n",
            " [113.]\n",
            " [114.]\n",
            " [115.]\n",
            " [116.]\n",
            " [117.]\n",
            " [118.]\n",
            " [119.]\n",
            " [120.]\n",
            " [121.]\n",
            " [122.]\n",
            " [123.]\n",
            " [124.]\n",
            " [125.]\n",
            " [126.]\n",
            " [127.]\n",
            " [128.]\n",
            " [129.]\n",
            " [130.]\n",
            " [131.]\n",
            " [132.]\n",
            " [133.]\n",
            " [134.]\n",
            " [135.]\n",
            " [136.]\n",
            " [137.]\n",
            " [138.]\n",
            " [139.]\n",
            " [140.]\n",
            " [141.]\n",
            " [142.]\n",
            " [143.]\n",
            " [144.]\n",
            " [145.]\n",
            " [146.]\n",
            " [147.]\n",
            " [148.]\n",
            " [149.]\n",
            " [150.]\n",
            " [151.]\n",
            " [152.]\n",
            " [153.]\n",
            " [154.]\n",
            " [155.]\n",
            " [156.]\n",
            " [157.]\n",
            " [158.]\n",
            " [159.]\n",
            " [160.]\n",
            " [161.]\n",
            " [162.]\n",
            " [163.]\n",
            " [164.]\n",
            " [165.]\n",
            " [166.]\n",
            " [167.]\n",
            " [168.]\n",
            " [169.]\n",
            " [170.]\n",
            " [171.]\n",
            " [172.]\n",
            " [173.]\n",
            " [174.]\n",
            " [175.]\n",
            " [176.]\n",
            " [177.]\n",
            " [178.]\n",
            " [179.]\n",
            " [180.]\n",
            " [181.]\n",
            " [182.]\n",
            " [183.]\n",
            " [184.]\n",
            " [185.]\n",
            " [186.]\n",
            " [187.]\n",
            " [188.]\n",
            " [189.]\n",
            " [190.]\n",
            " [191.]\n",
            " [192.]\n",
            " [193.]\n",
            " [194.]\n",
            " [195.]\n",
            " [196.]\n",
            " [197.]\n",
            " [198.]\n",
            " [199.]\n",
            " [200.]]\n"
          ]
        }
      ]
    },
    {
      "cell_type": "code",
      "source": [
        "x_test=data.iloc[200:249,0:1].values\n",
        "print(x_test)"
      ],
      "metadata": {
        "colab": {
          "base_uri": "https://localhost:8080/"
        },
        "id": "iFQWjizmRd9C",
        "outputId": "91baf1e2-61d5-444d-8c50-8b039e7bc426"
      },
      "execution_count": 30,
      "outputs": [
        {
          "output_type": "stream",
          "name": "stdout",
          "text": [
            "[[201.]\n",
            " [202.]\n",
            " [203.]\n",
            " [204.]\n",
            " [205.]\n",
            " [206.]\n",
            " [207.]\n",
            " [208.]\n",
            " [209.]\n",
            " [210.]\n",
            " [211.]\n",
            " [212.]\n",
            " [213.]\n",
            " [214.]\n",
            " [215.]\n",
            " [216.]\n",
            " [217.]\n",
            " [218.]\n",
            " [219.]\n",
            " [220.]\n",
            " [221.]\n",
            " [222.]\n",
            " [223.]\n",
            " [224.]\n",
            " [225.]\n",
            " [226.]\n",
            " [227.]\n",
            " [228.]\n",
            " [229.]\n",
            " [230.]\n",
            " [231.]\n",
            " [232.]\n",
            " [233.]\n",
            " [234.]\n",
            " [235.]\n",
            " [236.]\n",
            " [237.]\n",
            " [238.]\n",
            " [239.]\n",
            " [240.]\n",
            " [241.]\n",
            " [242.]\n",
            " [243.]\n",
            " [244.]\n",
            " [245.]\n",
            " [246.]\n",
            " [247.]\n",
            " [248.]\n",
            " [249.]]\n"
          ]
        }
      ]
    },
    {
      "cell_type": "code",
      "source": [
        "y_test=data.iloc[200:249,1].values\n",
        "print(y_test)"
      ],
      "metadata": {
        "colab": {
          "base_uri": "https://localhost:8080/"
        },
        "id": "TBhKMbB5RnNN",
        "outputId": "0b91a4e8-43f0-4985-8969-f7f26baf23cc"
      },
      "execution_count": 31,
      "outputs": [
        {
          "output_type": "stream",
          "name": "stdout",
          "text": [
            "[216.800003 218.399994 214.899994 206.199997 197.300003 206.800003\n",
            " 207.350006 208.800003 207.399994 208.75     212.       211.\n",
            " 209.600006 207.600006 206.449997 206.649994 206.850006 206.399994\n",
            " 205.699997 207.300003 206.899994 207.649994 206.949997 205.350006\n",
            " 207.75     207.050003 205.850006 202.5      203.449997 205.5\n",
            " 214.899994 204.949997 207.5      209.       209.5      206.300003\n",
            " 207.199997 205.5      205.300003 203.699997 202.649994 205.600006\n",
            " 204.5      204.800003 204.850006 207.550003 202.800003 201.899994\n",
            " 201.949997]\n"
          ]
        }
      ]
    },
    {
      "cell_type": "code",
      "source": [
        "y_questionbank=data.iloc[0:200,1].values\n",
        "print(y_questionbank)"
      ],
      "metadata": {
        "colab": {
          "base_uri": "https://localhost:8080/"
        },
        "id": "OvHPfekgRwzz",
        "outputId": "b4cd26f4-c1f9-4fde-dcc6-a70e44fda348"
      },
      "execution_count": 32,
      "outputs": [
        {
          "output_type": "stream",
          "name": "stdout",
          "text": [
            "[217.5      220.       229.       225.       217.       215.\n",
            " 229.100006 235.       231.899994 233.100006 231.949997 230.\n",
            " 233.600006 232.949997 229.100006 232.350006 234.       240.\n",
            " 242.550003 243.600006 240.949997 242.899994 237.649994 247.149994\n",
            " 253.850006 275.950012 292.350006 280.899994 281.       283.350006\n",
            " 278.600006 267.899994 260.5      250.       253.       258.\n",
            " 248.       251.149994 247.800003 250.899994 250.899994 240.\n",
            " 249.850006 248.949997 243.       235.       229.949997 222.800003\n",
            " 225.800003 225.       224.899994 228.949997 243.350006 229.5\n",
            " 232.5      234.949997 230.199997 229.       222.949997 225.699997\n",
            " 227.899994 232.899994 233.600006 232.       236.300003 231.\n",
            " 230.899994 235.949997 232.       231.399994 223.449997 214.699997\n",
            " 221.       222.399994 209.800003 211.800003 197.800003 203.699997\n",
            " 201.300003 204.899994 209.899994 206.100006 206.100006 207.300003\n",
            " 202.699997 207.699997 214.5      212.5      215.949997 217.699997\n",
            " 219.       219.850006 222.       222.899994 221.899994 226.949997\n",
            " 226.649994 230.       226.699997 230.199997 231.399994 233.\n",
            " 220.899994 220.399994 220.199997 222.300003 230.       232.\n",
            " 233.800003 228.649994 232.050003 229.5      229.899994 230.\n",
            " 233.649994 238.449997 236.949997 238.850006 232.649994 222.75\n",
            " 230.949997 230.600006 231.       227.149994 234.       235.050003\n",
            " 238.449997 235.449997 237.649994 246.949997 249.550003 246.5\n",
            " 243.699997 243.899994 237.449997 242.350006 246.899994 237.5\n",
            " 235.       235.5      229.100006 231.25     222.800003 217.300003\n",
            " 215.       216.149994 212.199997 216.5      216.800003 221.\n",
            " 221.649994 220.       220.399994 218.       217.949997 220.\n",
            " 215.       219.050003 221.399994 217.850006 221.25     221.\n",
            " 219.100006 221.800003 227.       228.100006 226.5      230.\n",
            " 228.199997 227.699997 228.350006 230.100006 231.199997 232.\n",
            " 230.050003 228.449997 229.5      224.699997 222.350006 220.449997\n",
            " 221.050003 221.5      221.       221.199997 224.100006 225.\n",
            " 223.550003 225.25     225.449997 225.25     224.199997 228.800003\n",
            " 226.       225.899994 219.75     218.800003 219.800003 222.649994\n",
            " 221.       218.      ]\n"
          ]
        }
      ]
    },
    {
      "cell_type": "code",
      "source": [
        "from sklearn.linear_model import LinearRegression\n",
        "regressor=LinearRegression()\n",
        "regressor.fit(x_questionbank,y_questionbank)"
      ],
      "metadata": {
        "colab": {
          "base_uri": "https://localhost:8080/"
        },
        "id": "sn4QhGCgR6Eb",
        "outputId": "a63e28bf-dd44-474f-8243-48d014924849"
      },
      "execution_count": 33,
      "outputs": [
        {
          "output_type": "execute_result",
          "data": {
            "text/plain": [
              "LinearRegression()"
            ]
          },
          "metadata": {},
          "execution_count": 33
        }
      ]
    },
    {
      "cell_type": "code",
      "source": [
        "regressor.predict(x_test)"
      ],
      "metadata": {
        "colab": {
          "base_uri": "https://localhost:8080/"
        },
        "id": "n0bDnMCwSCe7",
        "outputId": "36ad50b9-eed7-44cc-9f9a-2a44db9cb059"
      },
      "execution_count": 34,
      "outputs": [
        {
          "output_type": "execute_result",
          "data": {
            "text/plain": [
              "array([220.68820548, 220.59566524, 220.503125  , 220.41058476,\n",
              "       220.31804452, 220.22550428, 220.13296404, 220.0404238 ,\n",
              "       219.94788356, 219.85534332, 219.76280308, 219.67026285,\n",
              "       219.57772261, 219.48518237, 219.39264213, 219.30010189,\n",
              "       219.20756165, 219.11502141, 219.02248117, 218.92994093,\n",
              "       218.83740069, 218.74486045, 218.65232021, 218.55977997,\n",
              "       218.46723973, 218.37469949, 218.28215925, 218.18961902,\n",
              "       218.09707878, 218.00453854, 217.9119983 , 217.81945806,\n",
              "       217.72691782, 217.63437758, 217.54183734, 217.4492971 ,\n",
              "       217.35675686, 217.26421662, 217.17167638, 217.07913614,\n",
              "       216.9865959 , 216.89405566, 216.80151543, 216.70897519,\n",
              "       216.61643495, 216.52389471, 216.43135447, 216.33881423,\n",
              "       216.24627399])"
            ]
          },
          "metadata": {},
          "execution_count": 34
        }
      ]
    },
    {
      "cell_type": "code",
      "source": [
        "plt.scatter(x_questionbank, y_questionbank, color = 'green')\n",
        "plt.scatter(x_test, y_test, color = 'blue')\n",
        "plt.plot(x_test,regressor.predict(x_test), color = 'red')\n",
        "plt.xlabel('Package')\n",
        "plt.ylabel('Sales')\n",
        "plt.show()"
      ],
      "metadata": {
        "colab": {
          "base_uri": "https://localhost:8080/",
          "height": 279
        },
        "id": "uVLKSxcZSF7j",
        "outputId": "feb0d0e0-16b2-4880-c2f4-f93490572c69"
      },
      "execution_count": 35,
      "outputs": [
        {
          "output_type": "display_data",
          "data": {
            "text/plain": [
              "<Figure size 432x288 with 1 Axes>"
            ],
            "image/png": "[encoded data removed]"
          },
          "metadata": {
            "needs_background": "light"
          }
        }
      ]
    },
    {
      "cell_type": "code",
      "source": [],
      "metadata": {
        "id": "0CwxIDKESdiU"
      },
      "execution_count": null,
      "outputs": []
    }
  ]
}